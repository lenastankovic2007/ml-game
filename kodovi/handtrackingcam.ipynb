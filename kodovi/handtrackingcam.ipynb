{
 "cells": [
  {
   "cell_type": "code",
   "execution_count": null,
   "metadata": {},
   "outputs": [],
   "source": [
    "pip install mediapipe"
   ]
  },
  {
   "cell_type": "code",
   "execution_count": 2,
   "metadata": {},
   "outputs": [],
   "source": [
    "import cv2 as cv\n",
    "import mediapipe.python.solutions.hands as mp_hands\n",
    "import mediapipe.python.solutions.drawing_utils as drawing\n",
    "import mediapipe.python.solutions.drawing_styles as drawing_styles\n",
    "\n",
    "hands = mp_hands.Hands(\n",
    "    static_image_mode=False,  # real time\n",
    "    max_num_hands=2,\n",
    "    min_detection_confidence=0.5\n",
    ")\n",
    "\n",
    "cam = cv.VideoCapture(0)\n",
    "\n",
    "if not cam.isOpened():\n",
    "    print(\"Error: Could not access the camera.\")\n",
    "    exit()\n",
    "\n",
    "while True:\n",
    "    ret, frame = cam.read()\n",
    "    if not ret:\n",
    "        print(\"Error: Failed to capture image.\")\n",
    "        break\n",
    "\n",
    "    frame = cv.flip(frame, 1)\n",
    "\n",
    "    image_rgb = cv.cvtColor(frame, cv.COLOR_BGR2RGB)\n",
    "\n",
    "    results = hands.process(image_rgb)\n",
    "\n",
    "    if results.multi_hand_landmarks:\n",
    "        for hand_landmarks in results.multi_hand_landmarks:\n",
    "            for id, landmark in enumerate(hand_landmarks.landmark):\n",
    "                x = int(landmark.x * frame.shape[1])\n",
    "                y = int(landmark.y * frame.shape[0])\n",
    "                cv.circle(frame, (x, y), 5, (255, 0, 0), -1)\n",
    "\n",
    "            drawing.draw_landmarks(\n",
    "                frame,\n",
    "                hand_landmarks,\n",
    "                mp_hands.HAND_CONNECTIONS,\n",
    "                drawing_styles.get_default_hand_landmarks_style(),\n",
    "                drawing_styles.get_default_hand_connections_style(),\n",
    "            )\n",
    "\n",
    "    cv.imshow('Camera Feed with Hand Detection', frame)\n",
    "\n",
    "    # pritisni q ako hoces da prekines program\n",
    "    if cv.waitKey(1) & 0xFF == ord('q'):\n",
    "        break\n",
    "\n",
    "cam.release()\n",
    "cv.destroyAllWindows()\n",
    "hands.close()"
   ]
  },
  {
   "cell_type": "code",
   "execution_count": null,
   "metadata": {},
   "outputs": [],
   "source": [
    "cam.release()"
   ]
  }
 ],
 "metadata": {
  "kernelspec": {
   "display_name": "Python 3",
   "language": "python",
   "name": "python3"
  },
  "language_info": {
   "codemirror_mode": {
    "name": "ipython",
    "version": 3
   },
   "file_extension": ".py",
   "mimetype": "text/x-python",
   "name": "python",
   "nbconvert_exporter": "python",
   "pygments_lexer": "ipython3",
   "version": "3.12.4"
  }
 },
 "nbformat": 4,
 "nbformat_minor": 2
}
